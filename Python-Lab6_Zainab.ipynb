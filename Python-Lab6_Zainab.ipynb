{
 "cells": [
  {
   "cell_type": "markdown",
   "id": "ff69ca16",
   "metadata": {},
   "source": [
    "# Zainab Melaibari"
   ]
  },
  {
   "cell_type": "markdown",
   "id": "82204460",
   "metadata": {},
   "source": [
    "# Python-Lab6\n",
    "\n",
    "## Dictionary\n",
    "\n",
    "Build a phone book program that receives the phone number, and returns the name of the owner. \n",
    "- You can follow the table below:\n",
    "\n",
    "| Name    | Number      |\n",
    "| -------- | ---------- |\n",
    "| Amal     | 1111111111 |\n",
    "| Mohammed | 2222222222 |\n",
    "| Khadijah | 3333333333 |\n",
    "| Abdullah  | 4444444444 |\n",
    "| Rawan    | 5555555555 |\n",
    "| Faisal   | 6666666666 |\n",
    "| Layla    | 7777777777 |\n",
    "\n",
    "\n",
    "- If the number exists, print the owner. Otherwise, print \"Sorry, the number is not found\".\n",
    "- If the number is less or more than 10 numbers, print \"This is invalid number\".\n",
    "- If the number contains letters or symbols, print \"This is invalid number\".\n"
   ]
  },
  {
   "cell_type": "code",
   "execution_count": 28,
   "id": "069b7c72",
   "metadata": {},
   "outputs": [
    {
     "name": "stdout",
     "output_type": "stream",
     "text": [
      "Please enter the phone number, or enter 0 to exit: 4444444444\n",
      "Number user is:  Abdullah \n",
      "\n",
      "Please enter the phone number, or enter 0 to exit: 777\n",
      "This is invalid number\n",
      "\n",
      "Please enter the phone number, or enter 0 to exit: 7777777777\n",
      "Number user is:  Layla \n",
      "\n",
      "Please enter the phone number, or enter 0 to exit: 0\n"
     ]
    }
   ],
   "source": [
    "# this phoneBook function will take the number entered by the user and check if it is in the book to return owner's name\n",
    "def phoneBook(number):\n",
    "    \n",
    "    # define dictionary for all saved names and numbers\n",
    "    book = {\"Name\" : [\"Amal\",\"Mohammed\", \"Khadijah\", \"Abdullah\", \"Rawan\", \"Faisal\", \"Layla\"], \n",
    "            \"Number\": [\"1111111111\", \"2222222222\", \"3333333333\", \"4444444444\", \"5555555555\", \"6666666666\", \"7777777777\"]}\n",
    "    \n",
    "    # check if the number exist in the book numbers\n",
    "    if number in book[\"Number\"]:\n",
    "        \n",
    "        # save the index of the number to return the name that have the same index\n",
    "        numberIndex = book[\"Number\"].index(number)\n",
    "        name = book[\"Name\"][numberIndex]\n",
    "        \n",
    "    # the name will be None if the number doesn't exist\n",
    "    else:\n",
    "        name=None\n",
    "          \n",
    "    return name # return the result to the caller  \n",
    "\n",
    "# the loop will stop if the user enter \"0\"\n",
    "while True:\n",
    "    \n",
    "    number = input(\"Please enter the phone number, or enter 0 to exit: \")\n",
    "    \n",
    "    # check if the user want to exit\n",
    "    if number == \"0\":\n",
    "        break\n",
    "    \n",
    "    # check the validity of the phone number, it must have a length of 10 and to be all numeric values\n",
    "    if (len(number) != 10) or (not number.isnumeric()):\n",
    "        print(\"This is invalid number\\n\")\n",
    "    \n",
    "    # if the entered number is valid, the following code will be executed\n",
    "    else:\n",
    "        name = phoneBook(number) # call phoneBook function with the number and get the name result from it\n",
    "        \n",
    "        # when the name is None, it means that the number doesn't exist in the book\n",
    "        if name == None:\n",
    "            print(\"Sorry, the number is not found\\n\")\n",
    "            \n",
    "        # if the number exist in the book, print the name of the number's owner\n",
    "        else:\n",
    "            print(\"Number user is: \", name, \"\\n\")\n",
    "    "
   ]
  }
 ],
 "metadata": {
  "kernelspec": {
   "display_name": "Python 3 (ipykernel)",
   "language": "python",
   "name": "python3"
  },
  "language_info": {
   "codemirror_mode": {
    "name": "ipython",
    "version": 3
   },
   "file_extension": ".py",
   "mimetype": "text/x-python",
   "name": "python",
   "nbconvert_exporter": "python",
   "pygments_lexer": "ipython3",
   "version": "3.9.12"
  }
 },
 "nbformat": 4,
 "nbformat_minor": 5
}
