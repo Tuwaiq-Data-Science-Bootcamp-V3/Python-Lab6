{
 "cells": [
  {
   "cell_type": "code",
   "execution_count": 96,
   "id": "1ef7ee9d",
   "metadata": {},
   "outputs": [],
   "source": [
    "# use Build a phone book use Dictionary\n",
    "phone_book={1111111111:\"amal\",\n",
    "            2222222222:\"Mohammed\",\n",
    "           3333333333:\"Khadijah\",\n",
    "           4444444444:\"Abdullah\",\n",
    "          5555555555: \"Rawan\",\n",
    "           6666666666:\"Faisal\",\n",
    "           7777777777:\"Layla\"} "
   ]
  },
  {
   "cell_type": "code",
   "execution_count": 99,
   "id": "ac7b3d93",
   "metadata": {},
   "outputs": [
    {
     "name": "stdout",
     "output_type": "stream",
     "text": [
      "Enter phone number : 5555555555\n",
      "Rawan\n"
     ]
    }
   ],
   "source": [
    "Number=input(\"Enter phone number : \")\n",
    "if (len(Number)==10)&(Number.isdigit()) :\n",
    "    \n",
    "    if int(Number) in phone_book:\n",
    "            print(phone_book[int(Number)])\n",
    "            \n",
    "    elif (len(Number)>10) and (len(Number)<10):\n",
    "        print(\"This is invalid number\")\n",
    "        \n",
    "    else :\n",
    "        print(\"Sorry, the number is not found\")\n",
    "        \n",
    "else:\n",
    "    print(\"This is invalid number\")"
   ]
  },
  {
   "cell_type": "code",
   "execution_count": null,
   "id": "3e2c197d",
   "metadata": {},
   "outputs": [],
   "source": [
    "#resource\n",
    "#https://favtutor.com/blogs/check-string-is-integer-python (.isdigit())"
   ]
  }
 ],
 "metadata": {
  "kernelspec": {
   "display_name": "Python 3 (ipykernel)",
   "language": "python",
   "name": "python3"
  },
  "language_info": {
   "codemirror_mode": {
    "name": "ipython",
    "version": 3
   },
   "file_extension": ".py",
   "mimetype": "text/x-python",
   "name": "python",
   "nbconvert_exporter": "python",
   "pygments_lexer": "ipython3",
   "version": "3.9.13"
  }
 },
 "nbformat": 4,
 "nbformat_minor": 5
}
