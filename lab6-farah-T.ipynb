{
 "cells": [
  {
   "cell_type": "markdown",
   "metadata": {},
   "source": [
    "# Python-Lab6-Farah alosaimi\n",
    "\n",
    "## Dictionary\n",
    "\n",
    "Build a phone book program that receives the phone number, and returns the name of the owner. \n",
    "- You can follow the table below:\n",
    "\n",
    "| Name    | Number      |\n",
    "| -------- | ---------- |\n",
    "| Amal     | 1111111111 |\n",
    "| Mohammed | 2222222222 |\n",
    "| Khadijah | 3333333333 |\n",
    "| Abdullah  | 4444444444 |\n",
    "| Rawan    | 5555555555 |\n",
    "| Faisal   | 6666666666 |\n",
    "| Layla    | 7777777777 |\n",
    "\n",
    "\n",
    "- If the number exists, print the owner. Otherwise, print \"Sorry, the number is not found\".\n",
    "- If the number is less or more than 10 numbers, print \"This is invalid number\".\n",
    "- If the number contains letters or symbols, print \"This is invalid number\".\n"
   ]
  },
  {
   "cell_type": "code",
   "execution_count": 1,
   "metadata": {},
   "outputs": [],
   "source": [
    "dict = {\"1111111111\": \"Amal\" , \"2222222222\" : \"Mohammed\",\"3333333333\":\"Khadijah\",\"4444444444\":\"Abdullah\",\"5555555555\": \"Rawan\",\n",
    "        \"6666666666\": \"Faisal\",\"7777777777\": \"Layla\"}"
   ]
  },
  {
   "cell_type": "code",
   "execution_count": 2,
   "metadata": {},
   "outputs": [
    {
     "name": "stdout",
     "output_type": "stream",
     "text": [
      "enter the user number: 1111111111\n",
      "Amal\n"
     ]
    }
   ],
   "source": [
    "number = input(\"enter the user number: \")\n",
    "\n",
    "def check(number):\n",
    "    if number in dict:\n",
    "        print(dict[number])   \n",
    "        \n",
    "    elif ( len(number) > 10 ) :\n",
    "        print('This is invalid number')\n",
    "        \n",
    "    elif ( len(number) < 10 ) :\n",
    "        print('This is invalid number')\n",
    "        \n",
    "    elif number not in dict:\n",
    "        print('Sorry, the number is not found')      \n",
    "         \n",
    "    else:\n",
    "        print('This is invalid number')        \n",
    "        \n",
    "        \n",
    "check(number)        "
   ]
  },
  {
   "cell_type": "code",
   "execution_count": null,
   "metadata": {},
   "outputs": [],
   "source": []
  }
 ],
 "metadata": {
  "kernelspec": {
   "display_name": "Python 3",
   "language": "python",
   "name": "python3"
  },
  "language_info": {
   "codemirror_mode": {
    "name": "ipython",
    "version": 3
   },
   "file_extension": ".py",
   "mimetype": "text/x-python",
   "name": "python",
   "nbconvert_exporter": "python",
   "pygments_lexer": "ipython3",
   "version": "3.8.5"
  }
 },
 "nbformat": 4,
 "nbformat_minor": 4
}
