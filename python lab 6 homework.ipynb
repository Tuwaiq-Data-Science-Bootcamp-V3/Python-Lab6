{
 "cells": [
  {
   "cell_type": "code",
   "execution_count": 17,
   "id": "935eea2f",
   "metadata": {},
   "outputs": [
    {
     "name": "stdout",
     "output_type": "stream",
     "text": [
      "Enter number :7777777777\n",
      "Name of the owner :  Layla\n"
     ]
    }
   ],
   "source": [
    "phoBook = {'1111111111' :'Amal' ,\n",
    "                '2222222222' : 'Mohammed',\n",
    "                 '3333333333' : 'Khadijah',\n",
    "                 '4444444444' : 'Abdullah' ,\n",
    "                 '5555555555' :'Rawan',\n",
    "                 '6666666666' : 'Faisal',\n",
    "                 '7777777777' : 'Layla'}\n",
    "Entered = input(\"Enter number :\")\n",
    "numLen = len(Entered)\n",
    "if Entered in phoBook: \n",
    "       print(f\"Name of the owner : \",phoBook.get(Entered))\n",
    "        \n",
    "elif  (numLen != 10 or Entered == int) : \n",
    "            print (\"This is invalied number\")\n",
    "else : \n",
    "    print (\"Sorry, the number is not found\")"
   ]
  },
  {
   "cell_type": "code",
   "execution_count": null,
   "id": "1a2b4bff",
   "metadata": {},
   "outputs": [],
   "source": []
  }
 ],
 "metadata": {
  "kernelspec": {
   "display_name": "Python 3 (ipykernel)",
   "language": "python",
   "name": "python3"
  },
  "language_info": {
   "codemirror_mode": {
    "name": "ipython",
    "version": 3
   },
   "file_extension": ".py",
   "mimetype": "text/x-python",
   "name": "python",
   "nbconvert_exporter": "python",
   "pygments_lexer": "ipython3",
   "version": "3.10.9"
  }
 },
 "nbformat": 4,
 "nbformat_minor": 5
}
