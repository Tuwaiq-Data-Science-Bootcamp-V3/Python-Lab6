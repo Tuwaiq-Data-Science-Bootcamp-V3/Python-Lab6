{
 "cells": [
  {
   "cell_type": "code",
   "execution_count": 2,
   "id": "5921fd63",
   "metadata": {},
   "outputs": [
    {
     "name": "stdout",
     "output_type": "stream",
     "text": [
      "{'Amal': 1111111111, 'Mohammed': 2222222222, 'Khadijah': 3333333333, 'Abdullah': 4444444444, 'Rawan': 5555555555, 'Faisal': 6666666666, 'Layla': 7777777777}\n"
     ]
    }
   ],
   "source": [
    "dict1 = {\n",
    "  \"Amal\": 1111111111,\n",
    "  \"Mohammed\": 2222222222,\n",
    "  \"Khadijah\": 3333333333,\n",
    "  \"Abdullah\": 4444444444,\n",
    "    \"Rawan\":5555555555,\n",
    "    \"Faisal\":6666666666,\n",
    "    \"Layla\":7777777777\n",
    "}\n",
    "print(dict1)"
   ]
  },
  {
   "cell_type": "code",
   "execution_count": 10,
   "id": "69895d85",
   "metadata": {},
   "outputs": [],
   "source": [
    "def phone_guide():\n",
    "    guide_number = input(\"Enter a number:\")\n",
    "    numbers = {\"Amal\": 1111111111, \"Mohammed\": 2222222222, \"Khadijah\": 3333333333, \"Abdullah\": 4444444444}\n",
    "    if guide_number == 1111111111:\n",
    "        print(\"Amal\")\n",
    "    elif guide_number == 2222222222:\n",
    "        print(\"Mohammed\")\n",
    "    elif guide_number == 3333333333:\n",
    "        print(\"khadijah\")\n",
    "    elif guide_number == 4444444444:\n",
    "        print(\"Abdullah\")\n",
    "    elif guide_number == 5555555555:\n",
    "        print(\"Rawan\")\n",
    "    elif guide_number == 6666666666:\n",
    "        print(\"Faisal\")\n",
    "    elif guide_number == 7777777777:\n",
    "        print(\"Layla\")\n",
    "    elif guide_number != numbers:\n",
    "        print(\"Sorry, the number is not found\")\n",
    "    else:\n",
    "        print(\"This is invalid number\")"
   ]
  },
  {
   "cell_type": "code",
   "execution_count": null,
   "id": "3e6a1213",
   "metadata": {},
   "outputs": [],
   "source": []
  },
  {
   "cell_type": "code",
   "execution_count": null,
   "id": "c2370da6",
   "metadata": {},
   "outputs": [],
   "source": []
  },
  {
   "cell_type": "code",
   "execution_count": null,
   "id": "ecf00cb8",
   "metadata": {},
   "outputs": [],
   "source": []
  },
  {
   "cell_type": "code",
   "execution_count": null,
   "id": "36521aa4",
   "metadata": {},
   "outputs": [],
   "source": []
  },
  {
   "cell_type": "code",
   "execution_count": null,
   "id": "86934a26",
   "metadata": {},
   "outputs": [],
   "source": []
  },
  {
   "cell_type": "code",
   "execution_count": null,
   "id": "9813128f",
   "metadata": {},
   "outputs": [],
   "source": []
  },
  {
   "cell_type": "code",
   "execution_count": null,
   "id": "b91bafc2",
   "metadata": {},
   "outputs": [],
   "source": []
  }
 ],
 "metadata": {
  "kernelspec": {
   "display_name": "Python 3 (ipykernel)",
   "language": "python",
   "name": "python3"
  },
  "language_info": {
   "codemirror_mode": {
    "name": "ipython",
    "version": 3
   },
   "file_extension": ".py",
   "mimetype": "text/x-python",
   "name": "python",
   "nbconvert_exporter": "python",
   "pygments_lexer": "ipython3",
   "version": "3.9.13"
  }
 },
 "nbformat": 4,
 "nbformat_minor": 5
}
