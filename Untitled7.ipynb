{
 "cells": [
  {
   "cell_type": "markdown",
   "id": "04a3461c",
   "metadata": {},
   "source": [
    "# Build a phone book program that receives the phone number, and returns the name of the owner.\n",
    "\n",
    "- You can follow the table below:\n",
    "Name\tNumber\n",
    "Amal\t1111111111\n",
    "Mohammed\t2222222222\n",
    "Khadijah\t3333333333\n",
    "Abdullah\t4444444444\n",
    "Rawan\t5555555555\n",
    "Faisal\t6666666666\n",
    "Layla\t7777777777\n",
    "- If the number exists, print the owner. Otherwise, print \"Sorry, the number is not found\".\n",
    "- If the number is less or more than 10 numbers, print \"This is invalid number\".\n",
    "- If the number contains letters or symbols, print \"This is invalid number\"."
   ]
  },
  {
   "cell_type": "code",
   "execution_count": 15,
   "id": "a9fa9030",
   "metadata": {},
   "outputs": [
    {
     "name": "stdout",
     "output_type": "stream",
     "text": [
      "The owner of the number 1111111111 is Amal\n",
      "This is an invalid number.\n",
      "The owner of the number 5555555555 is Rawan\n",
      "Sorry, the number is not found.\n",
      "This is an invalid number.\n",
      "This is an invalid number.\n"
     ]
    }
   ],
   "source": [
    "phone_book = {\n",
    "    \"Amal\": \"1111111111\",\n",
    "    \"Mohammed\": \"2222222222\",\n",
    "    \"Khadijah\": \"3333333333\",\n",
    "    \"Abdullah\": \"4444444444\",\n",
    "    \"Rawan\": \"5555555555\",\n",
    "    \"Faisal\": \"6666666666\",\n",
    "    \"Layla\": \"7777777777\"\n",
    "}\n",
    "\n",
    "def lookup_number(number):\n",
    "    if not number.isdigit() or len(number) != 10:\n",
    "        print(\"This is an invalid number.\")\n",
    "        return\n",
    "    \n",
    "    for name, phone_number in phone_book.items():\n",
    "        if phone_number == number:\n",
    "            print(\"The owner of the number\", number, \"is\", name)\n",
    "            return\n",
    "    \n",
    "    print(\"Sorry, the number is not found.\")\n",
    "\n",
    "lookup_number(\"1111111111\")  \n",
    "lookup_number(\"12345678\")  \n",
    "lookup_number(\"5555555555\")\n",
    "lookup_number(\"9999999999\") \n",
    "lookup_number(\"99999a99999\") \n",
    "lookup_number(\"999991199999\") "
   ]
  }
 ],
 "metadata": {
  "kernelspec": {
   "display_name": "Python 3 (ipykernel)",
   "language": "python",
   "name": "python3"
  },
  "language_info": {
   "codemirror_mode": {
    "name": "ipython",
    "version": 3
   },
   "file_extension": ".py",
   "mimetype": "text/x-python",
   "name": "python",
   "nbconvert_exporter": "python",
   "pygments_lexer": "ipython3",
   "version": "3.9.13"
  }
 },
 "nbformat": 4,
 "nbformat_minor": 5
}
