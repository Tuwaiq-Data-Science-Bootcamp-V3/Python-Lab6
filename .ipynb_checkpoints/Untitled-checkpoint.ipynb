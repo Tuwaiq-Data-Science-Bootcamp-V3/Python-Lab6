{
 "cells": [
  {
   "cell_type": "code",
   "execution_count": null,
   "id": "8737c042",
   "metadata": {},
   "outputs": [],
   "source": [
    "PohnesNamesList = {\n",
    "  \"1111111111\": \"Amal\",\n",
    "  \"2222222222\": \"Mohammed\",\n",
    "  \"3333333333\": \"Khadijah\",\n",
    "    \"4444444444\":\"Abdullah\",\n",
    "    \"5555555555\":\"Rawan\",\n",
    "    \"6666666666\":\"Faisal\",\n",
    "    \"7777777777\":\"Layla\"\n",
    "}\n",
    "\n",
    "UserInput = (input(\"Put a number \"))\n",
    "    \n",
    "if UserInput in PohnesNamesList:\n",
    "       print(f\"The owner of this phone number is {PohnesNamesList[UserInput]}.\")\n",
    "else:\n",
    "        print(\"Sorry, the number is not found\")"
   ]
  },
  {
   "cell_type": "code",
   "execution_count": null,
   "id": "ec127a60",
   "metadata": {},
   "outputs": [],
   "source": []
  }
 ],
 "metadata": {
  "kernelspec": {
   "display_name": "Python 3 (ipykernel)",
   "language": "python",
   "name": "python3"
  },
  "language_info": {
   "codemirror_mode": {
    "name": "ipython",
    "version": 3
   },
   "file_extension": ".py",
   "mimetype": "text/x-python",
   "name": "python",
   "nbconvert_exporter": "python",
   "pygments_lexer": "ipython3",
   "version": "3.9.13"
  }
 },
 "nbformat": 4,
 "nbformat_minor": 5
}
