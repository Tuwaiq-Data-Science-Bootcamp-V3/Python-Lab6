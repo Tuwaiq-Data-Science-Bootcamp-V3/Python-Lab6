{
 "cells": [
  {
   "cell_type": "code",
   "execution_count": 1,
   "id": "ffa13a07",
   "metadata": {},
   "outputs": [
    {
     "name": "stdout",
     "output_type": "stream",
     "text": [
      "Enter the phone number: 111111111111111111111\n",
      "This is an invalid number. Number should contain exactly 10 digits.\n",
      "Enter the phone number: 111\n",
      "This is an invalid number. Number should contain exactly 10 digits.\n",
      "Enter the phone number: 1231231231\n",
      "Sorry the number is not found Please try again.\n",
      "Enter the phone number: 1111111111\n",
      "Owner: Faris\n"
     ]
    }
   ],
   "source": [
    "# First store the phone number as keys with name value \n",
    "phone_book = {\n",
    "    \"1111111111\": \"Faris\",\n",
    "    \"2222222222\": \"Mohammed\",\n",
    "    \"5555555555\": \"Feras\"\n",
    "}\n",
    "\n",
    "def search_phone_number():\n",
    "    while True: #while loop to keep it running until vaild number enterd\n",
    "        number = input(\"Enter the phone number: \")\n",
    "\n",
    "        if len(number) != 10:\n",
    "            print(\"This is an invalid number. Number should contain exactly 10 digits.\")\n",
    "            continue\n",
    "\n",
    "        if not number.isdigit(): #it prints an error message stating that the number should only contain digits\n",
    "            print(\"This is an invalid number. Number should only contain digits.\")\n",
    "            continue\n",
    "\n",
    "        if number in phone_book:\n",
    "            print(\"Owner:\", phone_book[number])\n",
    "            break\n",
    "        else:\n",
    "            print(\"Sorry the number is not found Please try again.\")\n",
    "\n",
    "# Test the phone number search\n",
    "search_phone_number()\n"
   ]
  },
  {
   "cell_type": "code",
   "execution_count": null,
   "id": "feafa496",
   "metadata": {},
   "outputs": [],
   "source": []
  }
 ],
 "metadata": {
  "kernelspec": {
   "display_name": "Python 3 (ipykernel)",
   "language": "python",
   "name": "python3"
  },
  "language_info": {
   "codemirror_mode": {
    "name": "ipython",
    "version": 3
   },
   "file_extension": ".py",
   "mimetype": "text/x-python",
   "name": "python",
   "nbconvert_exporter": "python",
   "pygments_lexer": "ipython3",
   "version": "3.10.9"
  }
 },
 "nbformat": 4,
 "nbformat_minor": 5
}
