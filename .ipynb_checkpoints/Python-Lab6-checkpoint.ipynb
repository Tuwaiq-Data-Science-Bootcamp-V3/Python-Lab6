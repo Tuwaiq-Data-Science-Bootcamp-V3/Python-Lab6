{
 "cells": [
  {
   "cell_type": "code",
   "execution_count": 29,
   "id": "0cb6efef",
   "metadata": {},
   "outputs": [
    {
     "name": "stdout",
     "output_type": "stream",
     "text": [
      "Enter your phone number : 9999999999\n",
      "This is invalid number or the number is not found\n",
      "Enter your phone number : uuu\n",
      "This is invalid number or the number is not found\n",
      "Enter your phone number : 890-:\n",
      "This is invalid number or the number is not found\n",
      "Enter your phone number : 7777777777\n",
      "Layla\n"
     ]
    }
   ],
   "source": [
    "dict = {\n",
    "    1111111111 : \"Amal\" ,\n",
    "    2222222222 : \"Mohammed\",\n",
    "    3333333333 : \"Khadijah\",\n",
    "    4444444444 : \"Abdullah\",\n",
    "    5555555555 : \"Rawan\",\n",
    "    6666666666 : \"Faisal\",\n",
    "    7777777777 : \"Layla\"\n",
    "}\n",
    "\n",
    "\n",
    "UserPhone = input(\"Enter your phone number : \")\n",
    "while (len(UserPhone)!=10)  or not (UserPhone.isdigit()) or (int(UserPhone) not in dict.keys()):\n",
    "    print(\"This is invalid number or the number is not found\") \n",
    "    UserPhone = input(\"Enter your phone number : \")\n",
    "\n",
    "if int(UserPhone) in dict.keys():\n",
    "    print(dict[int(UserPhone)])\n",
    "\n",
    "\n"
   ]
  },
  {
   "cell_type": "code",
   "execution_count": null,
   "id": "aabd010b",
   "metadata": {},
   "outputs": [],
   "source": []
  },
  {
   "cell_type": "code",
   "execution_count": null,
   "id": "fecb29aa",
   "metadata": {},
   "outputs": [],
   "source": []
  },
  {
   "cell_type": "code",
   "execution_count": null,
   "id": "976121de",
   "metadata": {},
   "outputs": [],
   "source": []
  }
 ],
 "metadata": {
  "kernelspec": {
   "display_name": "Python 3 (ipykernel)",
   "language": "python",
   "name": "python3"
  },
  "language_info": {
   "codemirror_mode": {
    "name": "ipython",
    "version": 3
   },
   "file_extension": ".py",
   "mimetype": "text/x-python",
   "name": "python",
   "nbconvert_exporter": "python",
   "pygments_lexer": "ipython3",
   "version": "3.10.9"
  }
 },
 "nbformat": 4,
 "nbformat_minor": 5
}
