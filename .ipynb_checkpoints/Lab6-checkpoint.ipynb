{
 "cells": [
  {
   "cell_type": "code",
   "execution_count": 2,
   "id": "10ae79bb",
   "metadata": {},
   "outputs": [
    {
     "name": "stdout",
     "output_type": "stream",
     "text": [
      "Please enter the number: 3333333332\n",
      "Sorry, the number is not found\n"
     ]
    }
   ],
   "source": [
    "dict_Name = {\n",
    "    '1111111111': 'Amal',\n",
    "    '2222222222': 'Mohammed',\n",
    "    '3333333333': 'Khadijah',\n",
    "    '4444444444': 'Abdullah',\n",
    "    '5555555555': 'Rawan',\n",
    "    '6666666666': 'Faisal',\n",
    "    '7777777777': 'Layla'\n",
    "}\n",
    "\n",
    "\n",
    "Number =input(\"Please enter the number: \")\n",
    "\n",
    "if not Number.isdigit():\n",
    "    print(\"This is invalid number\")\n",
    "elif len(Number) <10:\n",
    "    print(\"This is invalid number\")\n",
    "else:\n",
    "    if Number in dict_Name:# check if the number exists print the owner\n",
    "        print(\"The owner of the phone number is:\", dict_Name[Number])\n",
    "    else:\n",
    "        print(\"Sorry, the number is not found\")\n"
   ]
  },
  {
   "cell_type": "code",
   "execution_count": null,
   "id": "86496c31",
   "metadata": {},
   "outputs": [],
   "source": []
  }
 ],
 "metadata": {
  "kernelspec": {
   "display_name": "Python 3 (ipykernel)",
   "language": "python",
   "name": "python3"
  },
  "language_info": {
   "codemirror_mode": {
    "name": "ipython",
    "version": 3
   },
   "file_extension": ".py",
   "mimetype": "text/x-python",
   "name": "python",
   "nbconvert_exporter": "python",
   "pygments_lexer": "ipython3",
   "version": "3.10.9"
  }
 },
 "nbformat": 4,
 "nbformat_minor": 5
}
