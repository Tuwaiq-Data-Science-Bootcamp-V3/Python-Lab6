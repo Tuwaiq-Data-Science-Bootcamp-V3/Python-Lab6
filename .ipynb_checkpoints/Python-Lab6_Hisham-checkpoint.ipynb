{
 "cells": [
  {
   "cell_type": "markdown",
   "id": "02eac907",
   "metadata": {},
   "source": [
    "# Python-Lab6\n"
   ]
  },
  {
   "cell_type": "markdown",
   "id": "5731baf3",
   "metadata": {},
   "source": [
    "## Dictionary"
   ]
  },
  {
   "cell_type": "markdown",
   "id": "ffcd95ad",
   "metadata": {},
   "source": [
    "Build a phone book program that receives the phone number, and returns the name of the owner.\n",
    "\n"
   ]
  },
  {
   "cell_type": "code",
   "execution_count": 8,
   "id": "69caee6a",
   "metadata": {},
   "outputs": [],
   "source": [
    "MyDict={1111111111:\"amal\",2222222222:\"mohammed\",3333333333:\"khadijah\",4444444444:\"abdullah\"} "
   ]
  },
  {
   "cell_type": "markdown",
   "id": "25fcc5bf",
   "metadata": {},
   "source": [
    "- If the number is less or more than 10 numbers, print \"This is invalid number\".\n",
    "\n",
    "- If the number contains letters or symbols, print \"This is invalid number\".\n",
    "\n",
    "- If the number exists, print the owner. Otherwise, print \"Sorry, the number is not found\".\n"
   ]
  },
  {
   "cell_type": "code",
   "execution_count": 12,
   "id": "499c3386",
   "metadata": {},
   "outputs": [
    {
     "name": "stdout",
     "output_type": "stream",
     "text": [
      "Enter a number : 5342\n",
      "Sorry enter 10 digit number\n"
     ]
    }
   ],
   "source": [
    "num=int(input(\"Enter a number : \"))\n",
    "if len(str(num))==10:\n",
    "    \n",
    "    if int(num) in MyDict:\n",
    "            print('The name of owner is '+ MyDict[num])\n",
    "            \n",
    "elif (len(str(num))>10 ) or (len(str(num))<10): \n",
    "    print(\"Sorry enter 10 digit number\")\n",
    "        \n",
    "else : \n",
    "    print(\"Sorry, the number not found\")\n",
    "        "
   ]
  },
  {
   "cell_type": "code",
   "execution_count": null,
   "id": "52007da4",
   "metadata": {},
   "outputs": [],
   "source": []
  }
 ],
 "metadata": {
  "kernelspec": {
   "display_name": "Python 3 (ipykernel)",
   "language": "python",
   "name": "python3"
  },
  "language_info": {
   "codemirror_mode": {
    "name": "ipython",
    "version": 3
   },
   "file_extension": ".py",
   "mimetype": "text/x-python",
   "name": "python",
   "nbconvert_exporter": "python",
   "pygments_lexer": "ipython3",
   "version": "3.9.12"
  }
 },
 "nbformat": 4,
 "nbformat_minor": 5
}
