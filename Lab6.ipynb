{
 "cells": [
  {
   "cell_type": "code",
   "execution_count": 30,
   "id": "1681437d",
   "metadata": {},
   "outputs": [],
   "source": [
    "phones = {\n",
    "    '1111111111': 'Amal',\n",
    "    #'Amal': '1111111111',\n",
    "    '2222222222': 'Mohammed',\n",
    "    #'Mohammed': '2222222222',\n",
    "    '3333333333': 'Khadijah',\n",
    "    #'Khadijah': '3333333333',\n",
    "    '4444444444': 'Abdullah',\n",
    "    #'Abdullah': '4444444444',\n",
    "    '5555555555': 'Rawan',\n",
    "    '6666666666': 'Faisal',\n",
    "    '7777777777': 'Layla'\n",
    "}"
   ]
  },
  {
   "cell_type": "code",
   "execution_count": 31,
   "id": "e40a4232",
   "metadata": {},
   "outputs": [],
   "source": [
    "def searchPhone(phonenumber):\n",
    "    if len(phonenumber) != 10 or not phonenumber.isdigit():\n",
    "        return \"This is an invalid number\"\n",
    "    if phonenumber in phones:\n",
    "        return phones[phonenumber]\n",
    "    else:\n",
    "        return \"Sorry, the number is not found\""
   ]
  },
  {
   "cell_type": "code",
   "execution_count": 32,
   "id": "6099b1e8",
   "metadata": {},
   "outputs": [
    {
     "name": "stdout",
     "output_type": "stream",
     "text": [
      "Enter the phone number: 7777777779\n",
      "Sorry, the number is not found\n"
     ]
    }
   ],
   "source": [
    "phonenumber = input(\"Enter the phone number: \")\n",
    "res = searchPhone(phonenumber)\n",
    "print(res)"
   ]
  }
 ],
 "metadata": {
  "kernelspec": {
   "display_name": "Python 3 (ipykernel)",
   "language": "python",
   "name": "python3"
  },
  "language_info": {
   "codemirror_mode": {
    "name": "ipython",
    "version": 3
   },
   "file_extension": ".py",
   "mimetype": "text/x-python",
   "name": "python",
   "nbconvert_exporter": "python",
   "pygments_lexer": "ipython3",
   "version": "3.10.9"
  }
 },
 "nbformat": 4,
 "nbformat_minor": 5
}
