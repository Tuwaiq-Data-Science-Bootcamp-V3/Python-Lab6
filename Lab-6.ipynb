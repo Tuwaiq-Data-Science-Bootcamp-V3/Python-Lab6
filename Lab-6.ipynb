{
 "cells": [
  {
   "cell_type": "markdown",
   "id": "6235eab4",
   "metadata": {},
   "source": [
    "# Python-Lab6"
   ]
  },
  {
   "cell_type": "markdown",
   "id": "ee4ad12d",
   "metadata": {},
   "source": [
    "## Dictionary"
   ]
  },
  {
   "cell_type": "markdown",
   "id": "541594b3",
   "metadata": {},
   "source": [
    "I will build a phone book program that receives the phone number, and the name of the owner.\n",
    "\n",
    "-  The table below is phone book:"
   ]
  },
  {
   "cell_type": "markdown",
   "id": "3bbb36cd",
   "metadata": {},
   "source": [
    "| Name | Number |\n",
    "| ----------- | ----------- |\n",
    "| Amal | 1111111111 |\n",
    "| Mohammed | 22222222222 |\n",
    "| Khadijah | 3333333333 |\n",
    "| Abdullah | 4444444444 |\n",
    "| Rawan | 5555555555 |\n",
    "| Faisal | 6666666666 |\n",
    "| Layla | 77777777777 |"
   ]
  },
  {
   "cell_type": "code",
   "execution_count": 1,
   "id": "713457f7",
   "metadata": {},
   "outputs": [],
   "source": [
    "phone_book = { #Create dic to phone book, numbers is key and names is value\n",
    "        \"1111111111\": \"Amal\",\n",
    "        \"2222222222\": \"Mohammed\",\n",
    "        \"3333333333\": \"Khadijah\",\n",
    "        \"4444444444\": \"Abdullah\",\n",
    "        \"5555555555\": \"Rawan\",\n",
    "        \"6666666666\": \"Faisal\",\n",
    "        \"7777777777\": \"Layla\"   }"
   ]
  },
  {
   "cell_type": "code",
   "execution_count": 2,
   "id": "dbce53d1",
   "metadata": {},
   "outputs": [
    {
     "name": "stdout",
     "output_type": "stream",
     "text": [
      "Insert a phone number: 1234567890\n",
      "Sorry, the number is not found\n",
      "Insert a phone number: 1a1a1a1a1a\n",
      "This is invalid number\n",
      "Insert a phone number: 12345\n",
      "This is invalid number\n",
      "Insert a phone number: 5555555555\n",
      "The owner of the phone number 5555555555 is Rawan\n"
     ]
    }
   ],
   "source": [
    "while True:\n",
    "    num = input(\"Insert a phone number: \") \n",
    "    #show message for insert the number, must be is integer and length equal 10 numbers\n",
    "\n",
    "    if not num.isdigit() or len(num) != 10: \n",
    "        #here I have two conditions, when num is not integar and len not equal 10\n",
    "        #show message invalid\n",
    "        print(\"This is invalid number\")\n",
    "    else:\n",
    "        owner = phone_book.get(num) #create variable to get number from dic\n",
    "        if owner: # If the owner exists\n",
    "            print(\"The owner of the phone number {} is {}\".format(num,owner))\n",
    "            break # break means to close the program\n",
    "        else: # If the owner dose not exists\n",
    "            print(\"Sorry, the number is not found\")"
   ]
  },
  {
   "cell_type": "code",
   "execution_count": null,
   "id": "fac4ace6",
   "metadata": {},
   "outputs": [],
   "source": []
  }
 ],
 "metadata": {
  "kernelspec": {
   "display_name": "Python 3 (ipykernel)",
   "language": "python",
   "name": "python3"
  },
  "language_info": {
   "codemirror_mode": {
    "name": "ipython",
    "version": 3
   },
   "file_extension": ".py",
   "mimetype": "text/x-python",
   "name": "python",
   "nbconvert_exporter": "python",
   "pygments_lexer": "ipython3",
   "version": "3.10.9"
  }
 },
 "nbformat": 4,
 "nbformat_minor": 5
}
